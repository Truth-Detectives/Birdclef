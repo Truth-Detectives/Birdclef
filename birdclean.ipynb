{
 "cells": [
  {
   "cell_type": "code",
   "execution_count": 2,
   "id": "5a15ab42-6980-4e90-9293-1ddda1f667bd",
   "metadata": {},
   "outputs": [],
   "source": [
    "import pandas as pd\n",
    "\n",
    "file = 'train.csv'\n",
    "df = pd.read_csv(file)\n",
    "df_cleaned = df[(df['latitude'].notna()) & (df['longitude'].notna())]\n",
    "df_cleaned = df_cleaned[(df_cleaned['latitude'] != 'None') & (df_cleaned['longitude'] != 'None')]\n",
    "cleaned_file = 'train_clean.csv'\n",
    "df_cleaned.to_csv(cleaned_file, index=False)"
   ]
  },
  {
   "cell_type": "code",
   "execution_count": null,
   "id": "dc2bd48e-90ac-4a09-bebe-9549a393733f",
   "metadata": {},
   "outputs": [],
   "source": []
  }
 ],
 "metadata": {
  "kernelspec": {
   "display_name": "Python [conda env:base] *",
   "language": "python",
   "name": "conda-base-py"
  },
  "language_info": {
   "codemirror_mode": {
    "name": "ipython",
    "version": 3
   },
   "file_extension": ".py",
   "mimetype": "text/x-python",
   "name": "python",
   "nbconvert_exporter": "python",
   "pygments_lexer": "ipython3",
   "version": "3.12.7"
  }
 },
 "nbformat": 4,
 "nbformat_minor": 5
}
